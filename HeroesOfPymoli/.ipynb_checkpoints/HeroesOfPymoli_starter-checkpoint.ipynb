{
 "cells": [
  {
   "cell_type": "markdown",
   "metadata": {},
   "source": [
    "### Note\n",
    "* Instructions have been included for each segment. You do not have to follow them exactly, but they are included to help you think through the steps."
   ]
  },
  {
   "cell_type": "code",
   "execution_count": null,
   "metadata": {},
   "outputs": [],
   "source": [
    "# Dependencies and Setup\n",
    "import pandas as pd\n",
    "import numpy as np\n",
    "# File to Load\n",
    "file_to_load = \"Resources/purchase_data.csv\"\n",
    "\n",
    "# Read Purchasing File and store into Pandas data frame\n",
    "purchase_data = pd.read_csv(file_to_load)\n",
    "#purchase_data.head()"
   ]
  },
  {
   "cell_type": "markdown",
   "metadata": {},
   "source": [
    "## Player Count"
   ]
  },
  {
   "cell_type": "markdown",
   "metadata": {},
   "source": [
    "* Display the total number of players\n"
   ]
  },
  {
   "cell_type": "code",
   "execution_count": null,
   "metadata": {},
   "outputs": [],
   "source": [
    "total_players=purchase_data.groupby(\"SN\")[\"SN\"].nunique()\n",
    "total_player_number=total_players.count()\n",
    "print(total_player_number)"
   ]
  },
  {
   "cell_type": "markdown",
   "metadata": {},
   "source": [
    "## Purchasing Analysis (Total)"
   ]
  },
  {
   "cell_type": "markdown",
   "metadata": {},
   "source": [
    "* Run basic calculations to obtain number of unique items, average price, etc.\n",
    "\n",
    "\n",
    "* Create a summary data frame to hold the results\n",
    "\n",
    "\n",
    "* Optional: give the displayed data cleaner formatting\n",
    "\n",
    "\n",
    "* Display the summary data frame\n"
   ]
  },
  {
   "cell_type": "code",
   "execution_count": null,
   "metadata": {},
   "outputs": [],
   "source": [
    "#find number of unique items\n",
    "unique_items=purchase_data.groupby(\"Item Name\")[\"Item Name\"].nunique()\n",
    "itemcount=unique_items.count()\n",
    "print(itemcount)"
   ]
  },
  {
   "cell_type": "code",
   "execution_count": null,
   "metadata": {},
   "outputs": [],
   "source": [
    "#average price, number of purchases, total revenue calculated\n",
    "average_price=purchase_data[\"Price\"].mean()\n",
    "\n",
    "#number of purchases\n",
    "total_purchases=len(purchase_data)\n",
    "\n",
    "#total revenue\n",
    "total_revenue = purchase_data[\"Price\"].sum()\n",
    "\n"
   ]
  },
  {
   "cell_type": "code",
   "execution_count": null,
   "metadata": {
    "scrolled": false
   },
   "outputs": [],
   "source": [
    "purchasing_analysis_df=pd.DataFrame({\"Number of Unique Items\": [itemcount],\n",
    "                                    \"Average Price\": [average_price],\n",
    "                                    \"Number of Purchases\": [total_purchases],\n",
    "                                    \"Total Revenue\": [total_revenue]})\n",
    "purchasing_analysis_df"
   ]
  },
  {
   "cell_type": "code",
   "execution_count": null,
   "metadata": {},
   "outputs": [],
   "source": [
    "#Style the table\n",
    "purchasing_analysis_df[\"Average Price\"] = purchasing_analysis_df[\"Average Price\"].map(\"${:.2f}\".format)\n",
    "purchasing_analysis_df[\"Total Revenue\"] = purchasing_analysis_df[\"Total Revenue\"].map(\"${:,}\".format)\n",
    "purchasing_analysis_df"
   ]
  },
  {
   "cell_type": "markdown",
   "metadata": {},
   "source": [
    "## Gender Demographics"
   ]
  },
  {
   "cell_type": "markdown",
   "metadata": {},
   "source": [
    "* Percentage and Count of Male Players\n",
    "\n",
    "\n",
    "* Percentage and Count of Female Players\n",
    "\n",
    "\n",
    "* Percentage and Count of Other / Non-Disclosed\n",
    "\n",
    "\n"
   ]
  },
  {
   "cell_type": "code",
   "execution_count": null,
   "metadata": {},
   "outputs": [],
   "source": [
    "\n",
    "#first must get rid of duplicate SNs\n",
    "purchase_data_no_duplicates=purchase_data.drop_duplicates(subset='SN')\n",
    "\n",
    "# purchase_data_no_duplicates.value_counts()\n",
    "\n",
    "#Counts\n",
    "player_dem_df=purchase_data_no_duplicates[\"Gender\"].value_counts()\n",
    "#Percents\n",
    "player_percents = (player_dem_df * 100)/total_player_number\n",
    "\n",
    "#create table\n",
    "gender_demographics = pd.DataFrame({\"Total Count\": player_dem_df,\n",
    "                                   \"Percentage\": player_percents})\n",
    "#Style and show the table\n",
    "gender_demographics['Percentage']=gender_demographics['Percentage'].map(\"{0:.2f}%\".format)\n",
    "gender_demographics\n"
   ]
  },
  {
   "cell_type": "markdown",
   "metadata": {},
   "source": [
    "\n",
    "## Purchasing Analysis (Gender)"
   ]
  },
  {
   "cell_type": "markdown",
   "metadata": {},
   "source": [
    "* Run basic calculations to obtain purchase count, avg. purchase price, avg. purchase total per person etc. by gender\n",
    "\n",
    "\n",
    "\n",
    "\n",
    "* Create a summary data frame to hold the results\n",
    "\n",
    "\n",
    "* Optional: give the displayed data cleaner formatting\n",
    "\n",
    "\n",
    "* Display the summary data frame"
   ]
  },
  {
   "cell_type": "code",
   "execution_count": null,
   "metadata": {},
   "outputs": [],
   "source": [
    "#Find purchase count, avg. purchase price, avg. total per person by gender using groupby\n",
    "gender_counts=purchase_data.groupby(['Gender']).count()['Price'].rename('Purchase Count')\n",
    "gender_avg=purchase_data.groupby(['Gender']).mean()['Price'].rename(\"Average Purchase Price\")\n",
    "gender_purchase_total=purchase_data.groupby(['Gender']).sum()['Price'].rename('Total Purchase Value')\n",
    "avg_total=gender_purchase_total / gender_demographics['Total Count']\n",
    "\n",
    "gender_data=pd.DataFrame({\"Purchase Count\": gender_counts,\n",
    "                         \"Average Purchase Price\": gender_avg,\n",
    "                         \"Total Purchase Value\": gender_purchase_total,\n",
    "                         \"Average Purchase per Person\": avg_total})\n",
    "\n",
    "\n",
    "#style the table\n",
    "gender_data['Average Purchase Price']=gender_data['Average Purchase Price'].map(\"${:.2f}\".format)\n",
    "\n",
    "gender_data['Total Purchase Value']=gender_data['Total Purchase Value'].map(\"${:,.2f}\".format)\n",
    "gender_data['Average Purchase per Person']=gender_data['Average Purchase per Person'].map(\"${:,.2f}\".format)\n",
    "\n",
    "gender_data"
   ]
  },
  {
   "cell_type": "markdown",
   "metadata": {},
   "source": [
    "## Age Demographics"
   ]
  },
  {
   "cell_type": "markdown",
   "metadata": {},
   "source": [
    "* Establish bins for ages\n",
    "\n",
    "\n",
    "* Categorize the existing players using the age bins. Hint: use pd.cut()\n",
    "\n",
    "\n",
    "* Calculate the numbers and percentages by age group\n",
    "\n",
    "\n",
    "* Create a summary data frame to hold the results\n",
    "\n",
    "\n",
    "* Optional: round the percentage column to two decimal points\n",
    "\n",
    "\n",
    "* Display Age Demographics Table\n"
   ]
  },
  {
   "cell_type": "code",
   "execution_count": null,
   "metadata": {},
   "outputs": [],
   "source": [
    "age_bins=[0, 9.99, 14.99, 19.99, 24.99, 29.99, 34.99, 35.99, 99.99]\n",
    "group_names=[\"<10\", \"10-14\", \"15-19\", \"20-24\", \"25-29\", \"30-34\", \"35-39\", \">40\"]\n",
    "\n",
    "#create new df with needed data\n",
    "players_df=purchase_data_no_duplicates.loc[:, [\"Gender\", \"SN\", \"Age\", \"Price\"]]\n",
    "\n",
    "#bin the ages\n",
    "players_df[\"Age Ranges\"]=pd.cut(players_df[\"Age\"], age_bins, labels=group_names)\n",
    "\n",
    "#numbers and percentages by age group\n",
    "age_demographics_totals=players_df[\"Age Ranges\"].value_counts()\n",
    "age_demographics_percents=age_demographics_totals / total_player_number * 100\n",
    "age_demographics= pd.DataFrame({\"Total Count\": age_demographics_totals,\n",
    "                               \"Percent of Players\": age_demographics_percents})\n",
    "\n",
    "\n",
    "#format percents\n",
    "age_demographics['Percent of Players']=age_demographics['Percent of Players'].map(\"{0:.2f}%\".format)\n",
    "\n",
    "age_demographics.sort_index()"
   ]
  },
  {
   "cell_type": "markdown",
   "metadata": {},
   "source": [
    "## Purchasing Analysis (Age)"
   ]
  },
  {
   "cell_type": "markdown",
   "metadata": {},
   "source": [
    "* Bin the purchase_data data frame by age\n",
    "\n",
    "\n",
    "* Run basic calculations to obtain purchase count, avg. purchase price, avg. purchase total per person etc. in the table below\n",
    "\n",
    "\n",
    "* Create a summary data frame to hold the results\n",
    "\n",
    "\n",
    "* Optional: give the displayed data cleaner formatting\n",
    "\n",
    "\n",
    "* Display the summary data frame"
   ]
  },
  {
   "cell_type": "code",
   "execution_count": null,
   "metadata": {},
   "outputs": [],
   "source": [
    "#create bins and apply to df\n",
    "age_bins=[0, 9.99, 14.99, 19.99, 24.99, 29.99, 34.99, 35.99, 99.99]\n",
    "group_names=[\"<10\", \"10-14\", \"15-19\", \"20-24\", \"25-29\", \"30-34\", \"35-39\", \">40\"]\n",
    "players_df[\"Age Ranges\"]=pd.cut(players_df[\"Age\"], age_bins, labels=group_names)\n",
    "\n",
    "#Run basic calculations to obtain purchase count, avg. purchase price, avg. purchase total per person etc. in the table below\n",
    "age_purchase_total = players_df.groupby([\"Age Ranges\"]).sum()[\"Price\"].rename(\"Total Purchase Value\")\n",
    "age_average = players_df.groupby([\"Age Ranges\"]).mean()[\"Price\"].rename(\"Average Purchase Price\")\n",
    "age_count = players_df.groupby([\"Age Ranges\"]).count()[\"Price\"].rename(\"Purchase Count\")\n",
    "age_avg = age_purchase_total / age_demographics[\"Total Count\"]\n",
    "\n",
    "#create df to present information\n",
    "age_data = pd.DataFrame({\"Purchase Count\": age_count,\n",
    "                        \"Average Purchase Price\": age_average,\n",
    "                        \"Total Purchase Value\": age_purchase_total,\n",
    "                        \"Average Total Purchase per Person\": age_avg})\n",
    "\n",
    "#style table for currency notation\n",
    "age_data[\"Average Purchase Price\"] = age_data[\"Average Purchase Price\"].map(\"${:,.2f}\".format)\n",
    "age_data[\"Total Purchase Value\"] = age_data[\"Total Purchase Value\"].map(\"${:,.2f}\".format)\n",
    "age_data[\"Average Total Purchase per Person\"] = age_data[\"Average Total Purchase per Person\"].map(\"${:,.2f}\".format)\n",
    "\n",
    "age_data"
   ]
  },
  {
   "cell_type": "markdown",
   "metadata": {},
   "source": [
    "## Top Spenders"
   ]
  },
  {
   "cell_type": "markdown",
   "metadata": {},
   "source": [
    "* Run basic calculations to obtain the results in the table below\n",
    "\n",
    "\n",
    "* Create a summary data frame to hold the results\n",
    "\n",
    "\n",
    "* Sort the total purchase value column in descending order\n",
    "\n",
    "\n",
    "* Optional: give the displayed data cleaner formatting\n",
    "\n",
    "\n",
    "* Display a preview of the summary data frame\n",
    "\n"
   ]
  },
  {
   "cell_type": "code",
   "execution_count": null,
   "metadata": {},
   "outputs": [],
   "source": [
    "#we require duplicates to be included, so original purchase_data df is used\n",
    "SN_df=purchase_data.groupby(purchase_data[\"SN\"])\n",
    "screenname=SN_df['SN'].unique()\n",
    "SN_count=SN_df['Age'].count()\n",
    "\n",
    "#create df for total and average purchase\n",
    "SN_avg=round(SN_df['Price'].mean(),2)\n",
    "SN_total=SN_df['Price'].sum()\n",
    "\n",
    "top_spend = pd.DataFrame({\"SN\":screenname,\"Purchase Count\":SN_count,\n",
    "                 \"Average Purchase Price\":SN_avg,\"Total Purchase Value\":SN_total})\n",
    "top_spend=top_spend.set_index('SN')\n",
    "top_spend= top_spend.sort_values(\"Total Purchase Value\", ascending=False)\n",
    "\n",
    "#format\n",
    "top_spend['Average Purchase Price']=top_spend['Average Purchase Price'].map(\"${:,.2f}\".format)\n",
    "top_spend['Total Purchase Value']=top_spend['Total Purchase Value'].map(\"${:,.2f}\".format)\n",
    "top_spend.head(5)"
   ]
  },
  {
   "cell_type": "markdown",
   "metadata": {},
   "source": [
    "## Most Popular Items"
   ]
  },
  {
   "cell_type": "markdown",
   "metadata": {},
   "source": [
    "* Retrieve the Item ID, Item Name, and Item Price columns\n",
    "\n",
    "\n",
    "* Group by Item ID and Item Name. Perform calculations to obtain purchase count, average item price, and total purchase value\n",
    "\n",
    "\n",
    "* Create a summary data frame to hold the results\n",
    "\n",
    "\n",
    "* Sort the purchase count column in descending order\n",
    "\n",
    "\n",
    "* Optional: give the displayed data cleaner formatting\n",
    "\n",
    "\n",
    "* Display a preview of the summary data frame\n",
    "\n"
   ]
  },
  {
   "cell_type": "code",
   "execution_count": null,
   "metadata": {},
   "outputs": [],
   "source": [
    "itemid = purchase_data.groupby(purchase_data['Item ID'])\n",
    "item_list=itemid['Item ID'].unique()\n",
    "item_name=itemid['Item Name'].unique()\n",
    "item_purchase_count = itemid['Age'].count()\n",
    "#item price was made a mean, because for some there are 2 prices\n",
    "item_price=itemid['Price'].mean()\n",
    "item_total_purchase = itemid['Price'].sum()\n",
    "\n",
    "#now make and style table\n",
    "item_table=pd.DataFrame({'Item ID': item_list,\n",
    "                        'Item Name': item_name,\n",
    "                        \"Purchase Count\": item_purchase_count,\n",
    "                        'Item Price': item_price,\n",
    "                        'Total Purchase Value': item_total_purchase})\n",
    "item_table=item_table.set_index('Item ID')\n",
    "\n",
    "#duplicate item_table so sorting isn't messed up next objective\n",
    "item_table1=item_table\n",
    "#sort by purchase count\n",
    "item_table1 = item_table1.sort_values('Purchase Count', ascending=False)\n",
    "#map currency format\n",
    "item_table1['Total Purchase Value']=item_table1['Total Purchase Value'].map(\"${:,.2f}\".format)\n",
    "item_table1['Item Price']=item_table1['Item Price'].map(\"${:,.2f}\".format)\n",
    "\n",
    "item_table1.head(5)"
   ]
  },
  {
   "cell_type": "markdown",
   "metadata": {},
   "source": [
    "## Most Profitable Items"
   ]
  },
  {
   "cell_type": "markdown",
   "metadata": {},
   "source": [
    "* Sort the above table by total purchase value in descending order\n",
    "\n",
    "\n",
    "* Optional: give the displayed data cleaner formatting\n",
    "\n",
    "\n",
    "* Display a preview of the data frame\n",
    "\n"
   ]
  },
  {
   "cell_type": "code",
   "execution_count": null,
   "metadata": {
    "scrolled": true
   },
   "outputs": [],
   "source": [
    "#sort by total purchase value\n",
    "profitable_items_df=item_table\n",
    "profitable_items_df=profitable_items_df.sort_values('Total Purchase Value', ascending=False)\n",
    "profitable_items_df.head(5)"
   ]
  }
 ],
 "metadata": {
  "anaconda-cloud": {},
  "kernel_info": {
   "name": "python3"
  },
  "kernelspec": {
   "display_name": "Python 3",
   "language": "python",
   "name": "python3"
  },
  "language_info": {
   "codemirror_mode": {
    "name": "ipython",
    "version": 3
   },
   "file_extension": ".py",
   "mimetype": "text/x-python",
   "name": "python",
   "nbconvert_exporter": "python",
   "pygments_lexer": "ipython3",
   "version": "3.6.12"
  },
  "latex_envs": {
   "LaTeX_envs_menu_present": true,
   "autoclose": false,
   "autocomplete": true,
   "bibliofile": "biblio.bib",
   "cite_by": "apalike",
   "current_citInitial": 1,
   "eqLabelWithNumbers": true,
   "eqNumInitial": 1,
   "hotkeys": {
    "equation": "Ctrl-E",
    "itemize": "Ctrl-I"
   },
   "labels_anchors": false,
   "latex_user_defs": false,
   "report_style_numbering": false,
   "user_envs_cfg": false
  },
  "nteract": {
   "version": "0.2.0"
  }
 },
 "nbformat": 4,
 "nbformat_minor": 2
}
