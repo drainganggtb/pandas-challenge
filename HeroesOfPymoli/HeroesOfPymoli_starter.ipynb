{
 "cells": [
  {
   "cell_type": "markdown",
   "metadata": {},
   "source": [
    "### Note\n",
    "* Instructions have been included for each segment. You do not have to follow them exactly, but they are included to help you think through the steps."
   ]
  },
  {
   "cell_type": "code",
   "execution_count": 1,
   "metadata": {},
   "outputs": [],
   "source": [
    "# Dependencies and Setup\n",
    "import pandas as pd\n",
    "import numpy as np\n",
    "# File to Load\n",
    "file_to_load = \"Resources/purchase_data.csv\"\n",
    "\n",
    "# Read Purchasing File and store into Pandas data frame\n",
    "purchase_data = pd.read_csv(file_to_load)\n",
    "#purchase_data.head()"
   ]
  },
  {
   "cell_type": "markdown",
   "metadata": {},
   "source": [
    "## Player Count"
   ]
  },
  {
   "cell_type": "markdown",
   "metadata": {},
   "source": [
    "* Display the total number of players\n"
   ]
  },
  {
   "cell_type": "code",
   "execution_count": 2,
   "metadata": {},
   "outputs": [
    {
     "name": "stdout",
     "output_type": "stream",
     "text": [
      "576\n"
     ]
    }
   ],
   "source": [
    "total_players=purchase_data.groupby(\"SN\")[\"SN\"].nunique()\n",
    "total_player_number=total_players.count()\n",
    "print(total_player_number)"
   ]
  },
  {
   "cell_type": "markdown",
   "metadata": {},
   "source": [
    "## Purchasing Analysis (Total)"
   ]
  },
  {
   "cell_type": "markdown",
   "metadata": {},
   "source": [
    "* Run basic calculations to obtain number of unique items, average price, etc.\n",
    "\n",
    "\n",
    "* Create a summary data frame to hold the results\n",
    "\n",
    "\n",
    "* Optional: give the displayed data cleaner formatting\n",
    "\n",
    "\n",
    "* Display the summary data frame\n"
   ]
  },
  {
   "cell_type": "code",
   "execution_count": 3,
   "metadata": {},
   "outputs": [
    {
     "name": "stdout",
     "output_type": "stream",
     "text": [
      "179\n"
     ]
    }
   ],
   "source": [
    "#find number of unique items\n",
    "unique_items=purchase_data.groupby(\"Item Name\")[\"Item Name\"].nunique()\n",
    "itemcount=unique_items.count()\n",
    "print(itemcount)"
   ]
  },
  {
   "cell_type": "code",
   "execution_count": 4,
   "metadata": {},
   "outputs": [],
   "source": [
    "#average price, number of purchases, total revenue calculated\n",
    "average_price=purchase_data[\"Price\"].mean()\n",
    "\n",
    "#number of purchases\n",
    "total_purchases=len(purchase_data)\n",
    "\n",
    "#total revenue\n",
    "total_revenue = purchase_data[\"Price\"].sum()\n",
    "\n"
   ]
  },
  {
   "cell_type": "code",
   "execution_count": 5,
   "metadata": {
    "scrolled": false
   },
   "outputs": [
    {
     "data": {
      "text/html": [
       "<div>\n",
       "<style scoped>\n",
       "    .dataframe tbody tr th:only-of-type {\n",
       "        vertical-align: middle;\n",
       "    }\n",
       "\n",
       "    .dataframe tbody tr th {\n",
       "        vertical-align: top;\n",
       "    }\n",
       "\n",
       "    .dataframe thead th {\n",
       "        text-align: right;\n",
       "    }\n",
       "</style>\n",
       "<table border=\"1\" class=\"dataframe\">\n",
       "  <thead>\n",
       "    <tr style=\"text-align: right;\">\n",
       "      <th></th>\n",
       "      <th>Number of Unique Items</th>\n",
       "      <th>Average Price</th>\n",
       "      <th>Number of Purchases</th>\n",
       "      <th>Total Revenue</th>\n",
       "    </tr>\n",
       "  </thead>\n",
       "  <tbody>\n",
       "    <tr>\n",
       "      <th>0</th>\n",
       "      <td>179</td>\n",
       "      <td>3.050987</td>\n",
       "      <td>780</td>\n",
       "      <td>2379.77</td>\n",
       "    </tr>\n",
       "  </tbody>\n",
       "</table>\n",
       "</div>"
      ],
      "text/plain": [
       "   Number of Unique Items  Average Price  Number of Purchases  Total Revenue\n",
       "0                     179       3.050987                  780        2379.77"
      ]
     },
     "execution_count": 5,
     "metadata": {},
     "output_type": "execute_result"
    }
   ],
   "source": [
    "purchasing_analysis_df=pd.DataFrame({\"Number of Unique Items\": [itemcount],\n",
    "                                    \"Average Price\": [average_price],\n",
    "                                    \"Number of Purchases\": [total_purchases],\n",
    "                                    \"Total Revenue\": [total_revenue]})\n",
    "purchasing_analysis_df"
   ]
  },
  {
   "cell_type": "code",
   "execution_count": 6,
   "metadata": {},
   "outputs": [
    {
     "data": {
      "text/html": [
       "<div>\n",
       "<style scoped>\n",
       "    .dataframe tbody tr th:only-of-type {\n",
       "        vertical-align: middle;\n",
       "    }\n",
       "\n",
       "    .dataframe tbody tr th {\n",
       "        vertical-align: top;\n",
       "    }\n",
       "\n",
       "    .dataframe thead th {\n",
       "        text-align: right;\n",
       "    }\n",
       "</style>\n",
       "<table border=\"1\" class=\"dataframe\">\n",
       "  <thead>\n",
       "    <tr style=\"text-align: right;\">\n",
       "      <th></th>\n",
       "      <th>Number of Unique Items</th>\n",
       "      <th>Average Price</th>\n",
       "      <th>Number of Purchases</th>\n",
       "      <th>Total Revenue</th>\n",
       "    </tr>\n",
       "  </thead>\n",
       "  <tbody>\n",
       "    <tr>\n",
       "      <th>0</th>\n",
       "      <td>179</td>\n",
       "      <td>$3.05</td>\n",
       "      <td>780</td>\n",
       "      <td>$2,379.77</td>\n",
       "    </tr>\n",
       "  </tbody>\n",
       "</table>\n",
       "</div>"
      ],
      "text/plain": [
       "   Number of Unique Items Average Price  Number of Purchases Total Revenue\n",
       "0                     179         $3.05                  780     $2,379.77"
      ]
     },
     "execution_count": 6,
     "metadata": {},
     "output_type": "execute_result"
    }
   ],
   "source": [
    "#Style the table\n",
    "purchasing_analysis_df[\"Average Price\"] = purchasing_analysis_df[\"Average Price\"].map(\"${:.2f}\".format)\n",
    "purchasing_analysis_df[\"Total Revenue\"] = purchasing_analysis_df[\"Total Revenue\"].map(\"${:,}\".format)\n",
    "purchasing_analysis_df"
   ]
  },
  {
   "cell_type": "markdown",
   "metadata": {},
   "source": [
    "## Gender Demographics"
   ]
  },
  {
   "cell_type": "markdown",
   "metadata": {},
   "source": [
    "* Percentage and Count of Male Players\n",
    "\n",
    "\n",
    "* Percentage and Count of Female Players\n",
    "\n",
    "\n",
    "* Percentage and Count of Other / Non-Disclosed\n",
    "\n",
    "\n"
   ]
  },
  {
   "cell_type": "code",
   "execution_count": 7,
   "metadata": {},
   "outputs": [
    {
     "data": {
      "text/html": [
       "<div>\n",
       "<style scoped>\n",
       "    .dataframe tbody tr th:only-of-type {\n",
       "        vertical-align: middle;\n",
       "    }\n",
       "\n",
       "    .dataframe tbody tr th {\n",
       "        vertical-align: top;\n",
       "    }\n",
       "\n",
       "    .dataframe thead th {\n",
       "        text-align: right;\n",
       "    }\n",
       "</style>\n",
       "<table border=\"1\" class=\"dataframe\">\n",
       "  <thead>\n",
       "    <tr style=\"text-align: right;\">\n",
       "      <th></th>\n",
       "      <th>Total Count</th>\n",
       "      <th>Percentage</th>\n",
       "    </tr>\n",
       "  </thead>\n",
       "  <tbody>\n",
       "    <tr>\n",
       "      <th>Male</th>\n",
       "      <td>484</td>\n",
       "      <td>84.03%</td>\n",
       "    </tr>\n",
       "    <tr>\n",
       "      <th>Female</th>\n",
       "      <td>81</td>\n",
       "      <td>14.06%</td>\n",
       "    </tr>\n",
       "    <tr>\n",
       "      <th>Other / Non-Disclosed</th>\n",
       "      <td>11</td>\n",
       "      <td>1.91%</td>\n",
       "    </tr>\n",
       "  </tbody>\n",
       "</table>\n",
       "</div>"
      ],
      "text/plain": [
       "                       Total Count Percentage\n",
       "Male                           484     84.03%\n",
       "Female                          81     14.06%\n",
       "Other / Non-Disclosed           11      1.91%"
      ]
     },
     "execution_count": 7,
     "metadata": {},
     "output_type": "execute_result"
    }
   ],
   "source": [
    "\n",
    "#first must get rid of duplicate SNs\n",
    "purchase_data_no_duplicates=purchase_data.drop_duplicates(subset='SN')\n",
    "\n",
    "# purchase_data_no_duplicates.value_counts()\n",
    "\n",
    "#Counts\n",
    "player_dem_df=purchase_data_no_duplicates[\"Gender\"].value_counts()\n",
    "#Percents\n",
    "player_percents = (player_dem_df * 100)/total_player_number\n",
    "\n",
    "#create table\n",
    "gender_demographics = pd.DataFrame({\"Total Count\": player_dem_df,\n",
    "                                   \"Percentage\": player_percents})\n",
    "#Style and show the table\n",
    "gender_demographics['Percentage']=gender_demographics['Percentage'].map(\"{0:.2f}%\".format)\n",
    "gender_demographics\n"
   ]
  },
  {
   "cell_type": "markdown",
   "metadata": {},
   "source": [
    "\n",
    "## Purchasing Analysis (Gender)"
   ]
  },
  {
   "cell_type": "markdown",
   "metadata": {},
   "source": [
    "* Run basic calculations to obtain purchase count, avg. purchase price, avg. purchase total per person etc. by gender\n",
    "\n",
    "\n",
    "\n",
    "\n",
    "* Create a summary data frame to hold the results\n",
    "\n",
    "\n",
    "* Optional: give the displayed data cleaner formatting\n",
    "\n",
    "\n",
    "* Display the summary data frame"
   ]
  },
  {
   "cell_type": "code",
   "execution_count": 8,
   "metadata": {},
   "outputs": [
    {
     "data": {
      "text/html": [
       "<div>\n",
       "<style scoped>\n",
       "    .dataframe tbody tr th:only-of-type {\n",
       "        vertical-align: middle;\n",
       "    }\n",
       "\n",
       "    .dataframe tbody tr th {\n",
       "        vertical-align: top;\n",
       "    }\n",
       "\n",
       "    .dataframe thead th {\n",
       "        text-align: right;\n",
       "    }\n",
       "</style>\n",
       "<table border=\"1\" class=\"dataframe\">\n",
       "  <thead>\n",
       "    <tr style=\"text-align: right;\">\n",
       "      <th></th>\n",
       "      <th>Purchase Count</th>\n",
       "      <th>Average Purchase Price</th>\n",
       "      <th>Total Purchase Value</th>\n",
       "      <th>Average Purchase per Person</th>\n",
       "    </tr>\n",
       "    <tr>\n",
       "      <th>Gender</th>\n",
       "      <th></th>\n",
       "      <th></th>\n",
       "      <th></th>\n",
       "      <th></th>\n",
       "    </tr>\n",
       "  </thead>\n",
       "  <tbody>\n",
       "    <tr>\n",
       "      <th>Female</th>\n",
       "      <td>113</td>\n",
       "      <td>$3.20</td>\n",
       "      <td>$361.94</td>\n",
       "      <td>$4.47</td>\n",
       "    </tr>\n",
       "    <tr>\n",
       "      <th>Male</th>\n",
       "      <td>652</td>\n",
       "      <td>$3.02</td>\n",
       "      <td>$1,967.64</td>\n",
       "      <td>$4.07</td>\n",
       "    </tr>\n",
       "    <tr>\n",
       "      <th>Other / Non-Disclosed</th>\n",
       "      <td>15</td>\n",
       "      <td>$3.35</td>\n",
       "      <td>$50.19</td>\n",
       "      <td>$4.56</td>\n",
       "    </tr>\n",
       "  </tbody>\n",
       "</table>\n",
       "</div>"
      ],
      "text/plain": [
       "                       Purchase Count Average Purchase Price  \\\n",
       "Gender                                                         \n",
       "Female                            113                  $3.20   \n",
       "Male                              652                  $3.02   \n",
       "Other / Non-Disclosed              15                  $3.35   \n",
       "\n",
       "                      Total Purchase Value Average Purchase per Person  \n",
       "Gender                                                                  \n",
       "Female                             $361.94                       $4.47  \n",
       "Male                             $1,967.64                       $4.07  \n",
       "Other / Non-Disclosed               $50.19                       $4.56  "
      ]
     },
     "execution_count": 8,
     "metadata": {},
     "output_type": "execute_result"
    }
   ],
   "source": [
    "#Find purchase count, avg. purchase price, avg. total per person by gender using groupby\n",
    "gender_counts=purchase_data.groupby(['Gender']).count()['Price'].rename('Purchase Count')\n",
    "gender_avg=purchase_data.groupby(['Gender']).mean()['Price'].rename(\"Average Purchase Price\")\n",
    "gender_purchase_total=purchase_data.groupby(['Gender']).sum()['Price'].rename('Total Purchase Value')\n",
    "avg_total=gender_purchase_total / gender_demographics['Total Count']\n",
    "\n",
    "gender_data=pd.DataFrame({\"Purchase Count\": gender_counts,\n",
    "                         \"Average Purchase Price\": gender_avg,\n",
    "                         \"Total Purchase Value\": gender_purchase_total,\n",
    "                         \"Average Purchase per Person\": avg_total})\n",
    "\n",
    "\n",
    "#style the table\n",
    "gender_data['Average Purchase Price']=gender_data['Average Purchase Price'].map(\"${:.2f}\".format)\n",
    "\n",
    "gender_data['Total Purchase Value']=gender_data['Total Purchase Value'].map(\"${:,.2f}\".format)\n",
    "gender_data['Average Purchase per Person']=gender_data['Average Purchase per Person'].map(\"${:,.2f}\".format)\n",
    "\n",
    "gender_data"
   ]
  },
  {
   "cell_type": "markdown",
   "metadata": {},
   "source": [
    "## Age Demographics"
   ]
  },
  {
   "cell_type": "markdown",
   "metadata": {},
   "source": [
    "* Establish bins for ages\n",
    "\n",
    "\n",
    "* Categorize the existing players using the age bins. Hint: use pd.cut()\n",
    "\n",
    "\n",
    "* Calculate the numbers and percentages by age group\n",
    "\n",
    "\n",
    "* Create a summary data frame to hold the results\n",
    "\n",
    "\n",
    "* Optional: round the percentage column to two decimal points\n",
    "\n",
    "\n",
    "* Display Age Demographics Table\n"
   ]
  },
  {
   "cell_type": "code",
   "execution_count": 17,
   "metadata": {},
   "outputs": [
    {
     "data": {
      "text/html": [
       "<div>\n",
       "<style scoped>\n",
       "    .dataframe tbody tr th:only-of-type {\n",
       "        vertical-align: middle;\n",
       "    }\n",
       "\n",
       "    .dataframe tbody tr th {\n",
       "        vertical-align: top;\n",
       "    }\n",
       "\n",
       "    .dataframe thead th {\n",
       "        text-align: right;\n",
       "    }\n",
       "</style>\n",
       "<table border=\"1\" class=\"dataframe\">\n",
       "  <thead>\n",
       "    <tr style=\"text-align: right;\">\n",
       "      <th></th>\n",
       "      <th>Total Count</th>\n",
       "      <th>Percent of Players</th>\n",
       "    </tr>\n",
       "  </thead>\n",
       "  <tbody>\n",
       "    <tr>\n",
       "      <th>&lt;10</th>\n",
       "      <td>17</td>\n",
       "      <td>2.95%</td>\n",
       "    </tr>\n",
       "    <tr>\n",
       "      <th>10-14</th>\n",
       "      <td>22</td>\n",
       "      <td>3.82%</td>\n",
       "    </tr>\n",
       "    <tr>\n",
       "      <th>15-19</th>\n",
       "      <td>107</td>\n",
       "      <td>18.58%</td>\n",
       "    </tr>\n",
       "    <tr>\n",
       "      <th>20-24</th>\n",
       "      <td>258</td>\n",
       "      <td>44.79%</td>\n",
       "    </tr>\n",
       "    <tr>\n",
       "      <th>25-29</th>\n",
       "      <td>77</td>\n",
       "      <td>13.37%</td>\n",
       "    </tr>\n",
       "    <tr>\n",
       "      <th>30-34</th>\n",
       "      <td>52</td>\n",
       "      <td>9.03%</td>\n",
       "    </tr>\n",
       "    <tr>\n",
       "      <th>35-39</th>\n",
       "      <td>10</td>\n",
       "      <td>1.74%</td>\n",
       "    </tr>\n",
       "    <tr>\n",
       "      <th>&gt;40</th>\n",
       "      <td>33</td>\n",
       "      <td>5.73%</td>\n",
       "    </tr>\n",
       "  </tbody>\n",
       "</table>\n",
       "</div>"
      ],
      "text/plain": [
       "       Total Count Percent of Players\n",
       "<10             17              2.95%\n",
       "10-14           22              3.82%\n",
       "15-19          107             18.58%\n",
       "20-24          258             44.79%\n",
       "25-29           77             13.37%\n",
       "30-34           52              9.03%\n",
       "35-39           10              1.74%\n",
       ">40             33              5.73%"
      ]
     },
     "execution_count": 17,
     "metadata": {},
     "output_type": "execute_result"
    }
   ],
   "source": [
    "age_bins=[0, 9.99, 14.99, 19.99, 24.99, 29.99, 34.99, 35.99, 99.99]\n",
    "group_names=[\"<10\", \"10-14\", \"15-19\", \"20-24\", \"25-29\", \"30-34\", \"35-39\", \">40\"]\n",
    "\n",
    "#create new df with needed data\n",
    "players_df=purchase_data_no_duplicates.loc[:, [\"Gender\", \"SN\", \"Age\", \"Price\"]]\n",
    "\n",
    "#bin the ages\n",
    "players_df[\"Age Ranges\"]=pd.cut(players_df[\"Age\"], age_bins, labels=group_names)\n",
    "\n",
    "#numbers and percentages by age group\n",
    "age_demographics_totals=players_df[\"Age Ranges\"].value_counts()\n",
    "age_demographics_percents=age_demographics_totals / total_player_number * 100\n",
    "age_demographics= pd.DataFrame({\"Total Count\": age_demographics_totals,\n",
    "                               \"Percent of Players\": age_demographics_percents})\n",
    "\n",
    "\n",
    "#format percents\n",
    "age_demographics['Percent of Players']=age_demographics['Percent of Players'].map(\"{0:.2f}%\".format)\n",
    "\n",
    "age_demographics.sort_index()"
   ]
  },
  {
   "cell_type": "markdown",
   "metadata": {},
   "source": [
    "## Purchasing Analysis (Age)"
   ]
  },
  {
   "cell_type": "markdown",
   "metadata": {},
   "source": [
    "* Bin the purchase_data data frame by age\n",
    "\n",
    "\n",
    "* Run basic calculations to obtain purchase count, avg. purchase price, avg. purchase total per person etc. in the table below\n",
    "\n",
    "\n",
    "* Create a summary data frame to hold the results\n",
    "\n",
    "\n",
    "* Optional: give the displayed data cleaner formatting\n",
    "\n",
    "\n",
    "* Display the summary data frame"
   ]
  },
  {
   "cell_type": "code",
   "execution_count": 25,
   "metadata": {},
   "outputs": [
    {
     "data": {
      "text/html": [
       "<div>\n",
       "<style scoped>\n",
       "    .dataframe tbody tr th:only-of-type {\n",
       "        vertical-align: middle;\n",
       "    }\n",
       "\n",
       "    .dataframe tbody tr th {\n",
       "        vertical-align: top;\n",
       "    }\n",
       "\n",
       "    .dataframe thead th {\n",
       "        text-align: right;\n",
       "    }\n",
       "</style>\n",
       "<table border=\"1\" class=\"dataframe\">\n",
       "  <thead>\n",
       "    <tr style=\"text-align: right;\">\n",
       "      <th></th>\n",
       "      <th>Purchase Count</th>\n",
       "      <th>Average Purchase Price</th>\n",
       "      <th>Total Purchase Value</th>\n",
       "      <th>Average Total Purchase per Person</th>\n",
       "    </tr>\n",
       "  </thead>\n",
       "  <tbody>\n",
       "    <tr>\n",
       "      <th>&lt;10</th>\n",
       "      <td>17</td>\n",
       "      <td>$3.39</td>\n",
       "      <td>$57.63</td>\n",
       "      <td>$3.39</td>\n",
       "    </tr>\n",
       "    <tr>\n",
       "      <th>10-14</th>\n",
       "      <td>22</td>\n",
       "      <td>$3.07</td>\n",
       "      <td>$67.64</td>\n",
       "      <td>$3.07</td>\n",
       "    </tr>\n",
       "    <tr>\n",
       "      <th>15-19</th>\n",
       "      <td>107</td>\n",
       "      <td>$3.10</td>\n",
       "      <td>$331.88</td>\n",
       "      <td>$3.10</td>\n",
       "    </tr>\n",
       "    <tr>\n",
       "      <th>20-24</th>\n",
       "      <td>258</td>\n",
       "      <td>$3.06</td>\n",
       "      <td>$790.39</td>\n",
       "      <td>$3.06</td>\n",
       "    </tr>\n",
       "    <tr>\n",
       "      <th>25-29</th>\n",
       "      <td>77</td>\n",
       "      <td>$2.91</td>\n",
       "      <td>$223.93</td>\n",
       "      <td>$2.91</td>\n",
       "    </tr>\n",
       "    <tr>\n",
       "      <th>30-34</th>\n",
       "      <td>52</td>\n",
       "      <td>$2.92</td>\n",
       "      <td>$151.92</td>\n",
       "      <td>$2.92</td>\n",
       "    </tr>\n",
       "    <tr>\n",
       "      <th>35-39</th>\n",
       "      <td>10</td>\n",
       "      <td>$3.83</td>\n",
       "      <td>$38.26</td>\n",
       "      <td>$3.83</td>\n",
       "    </tr>\n",
       "    <tr>\n",
       "      <th>&gt;40</th>\n",
       "      <td>33</td>\n",
       "      <td>$3.24</td>\n",
       "      <td>$107.00</td>\n",
       "      <td>$3.24</td>\n",
       "    </tr>\n",
       "  </tbody>\n",
       "</table>\n",
       "</div>"
      ],
      "text/plain": [
       "       Purchase Count Average Purchase Price Total Purchase Value  \\\n",
       "<10                17                  $3.39               $57.63   \n",
       "10-14              22                  $3.07               $67.64   \n",
       "15-19             107                  $3.10              $331.88   \n",
       "20-24             258                  $3.06              $790.39   \n",
       "25-29              77                  $2.91              $223.93   \n",
       "30-34              52                  $2.92              $151.92   \n",
       "35-39              10                  $3.83               $38.26   \n",
       ">40                33                  $3.24              $107.00   \n",
       "\n",
       "      Average Total Purchase per Person  \n",
       "<10                               $3.39  \n",
       "10-14                             $3.07  \n",
       "15-19                             $3.10  \n",
       "20-24                             $3.06  \n",
       "25-29                             $2.91  \n",
       "30-34                             $2.92  \n",
       "35-39                             $3.83  \n",
       ">40                               $3.24  "
      ]
     },
     "execution_count": 25,
     "metadata": {},
     "output_type": "execute_result"
    }
   ],
   "source": [
    "#create bins and apply to df\n",
    "age_bins=[0, 9.99, 14.99, 19.99, 24.99, 29.99, 34.99, 35.99, 99.99]\n",
    "group_names=[\"<10\", \"10-14\", \"15-19\", \"20-24\", \"25-29\", \"30-34\", \"35-39\", \">40\"]\n",
    "players_df[\"Age Ranges\"]=pd.cut(players_df[\"Age\"], age_bins, labels=group_names)\n",
    "\n",
    "#Run basic calculations to obtain purchase count, avg. purchase price, avg. purchase total per person etc. in the table below\n",
    "age_purchase_total = players_df.groupby([\"Age Ranges\"]).sum()[\"Price\"].rename(\"Total Purchase Value\")\n",
    "age_average = players_df.groupby([\"Age Ranges\"]).mean()[\"Price\"].rename(\"Average Purchase Price\")\n",
    "age_count = players_df.groupby([\"Age Ranges\"]).count()[\"Price\"].rename(\"Purchase Count\")\n",
    "age_avg = age_purchase_total / age_demographics[\"Total Count\"]\n",
    "\n",
    "#create df to present information\n",
    "age_data = pd.DataFrame({\"Purchase Count\": age_count,\n",
    "                        \"Average Purchase Price\": age_average,\n",
    "                        \"Total Purchase Value\": age_purchase_total,\n",
    "                        \"Average Total Purchase per Person\": age_avg})\n",
    "\n",
    "#style table for currency notation\n",
    "age_data[\"Average Purchase Price\"] = age_data[\"Average Purchase Price\"].map(\"${:,.2f}\".format)\n",
    "age_data[\"Total Purchase Value\"] = age_data[\"Total Purchase Value\"].map(\"${:,.2f}\".format)\n",
    "age_data[\"Average Total Purchase per Person\"] = age_data[\"Average Total Purchase per Person\"].map(\"${:,.2f}\".format)\n",
    "\n",
    "age_data"
   ]
  },
  {
   "cell_type": "markdown",
   "metadata": {},
   "source": [
    "## Top Spenders"
   ]
  },
  {
   "cell_type": "markdown",
   "metadata": {},
   "source": [
    "* Run basic calculations to obtain the results in the table below\n",
    "\n",
    "\n",
    "* Create a summary data frame to hold the results\n",
    "\n",
    "\n",
    "* Sort the total purchase value column in descending order\n",
    "\n",
    "\n",
    "* Optional: give the displayed data cleaner formatting\n",
    "\n",
    "\n",
    "* Display a preview of the summary data frame\n",
    "\n"
   ]
  },
  {
   "cell_type": "code",
   "execution_count": 41,
   "metadata": {},
   "outputs": [
    {
     "data": {
      "text/html": [
       "<div>\n",
       "<style scoped>\n",
       "    .dataframe tbody tr th:only-of-type {\n",
       "        vertical-align: middle;\n",
       "    }\n",
       "\n",
       "    .dataframe tbody tr th {\n",
       "        vertical-align: top;\n",
       "    }\n",
       "\n",
       "    .dataframe thead th {\n",
       "        text-align: right;\n",
       "    }\n",
       "</style>\n",
       "<table border=\"1\" class=\"dataframe\">\n",
       "  <thead>\n",
       "    <tr style=\"text-align: right;\">\n",
       "      <th></th>\n",
       "      <th>Purchase Count</th>\n",
       "      <th>Average Purchase Price</th>\n",
       "      <th>Total Purchase Value</th>\n",
       "    </tr>\n",
       "    <tr>\n",
       "      <th>SN</th>\n",
       "      <th></th>\n",
       "      <th></th>\n",
       "      <th></th>\n",
       "    </tr>\n",
       "  </thead>\n",
       "  <tbody>\n",
       "    <tr>\n",
       "      <th>[Lisosia93]</th>\n",
       "      <td>5</td>\n",
       "      <td>3.79</td>\n",
       "      <td>18.96</td>\n",
       "    </tr>\n",
       "    <tr>\n",
       "      <th>[Idastidru52]</th>\n",
       "      <td>4</td>\n",
       "      <td>3.86</td>\n",
       "      <td>15.45</td>\n",
       "    </tr>\n",
       "    <tr>\n",
       "      <th>[Chamjask73]</th>\n",
       "      <td>3</td>\n",
       "      <td>4.61</td>\n",
       "      <td>13.83</td>\n",
       "    </tr>\n",
       "    <tr>\n",
       "      <th>[Iral74]</th>\n",
       "      <td>4</td>\n",
       "      <td>3.40</td>\n",
       "      <td>13.62</td>\n",
       "    </tr>\n",
       "    <tr>\n",
       "      <th>[Iskadarya95]</th>\n",
       "      <td>3</td>\n",
       "      <td>4.37</td>\n",
       "      <td>13.10</td>\n",
       "    </tr>\n",
       "  </tbody>\n",
       "</table>\n",
       "</div>"
      ],
      "text/plain": [
       "               Purchase Count  Average Purchase Price  Total Purchase Value\n",
       "SN                                                                         \n",
       "[Lisosia93]                 5                    3.79                 18.96\n",
       "[Idastidru52]               4                    3.86                 15.45\n",
       "[Chamjask73]                3                    4.61                 13.83\n",
       "[Iral74]                    4                    3.40                 13.62\n",
       "[Iskadarya95]               3                    4.37                 13.10"
      ]
     },
     "execution_count": 41,
     "metadata": {},
     "output_type": "execute_result"
    }
   ],
   "source": [
    "#we require duplicates to be included, so original purchase_data df is used\n",
    "SN_df=purchase_data.groupby(purchase_data[\"SN\"])\n",
    "screenname=SN_df['SN'].unique()\n",
    "SN_count=SN_df['Age'].count()\n",
    "\n",
    "#create df for total and average purchase\n",
    "SN_avg=round(SN_df['Price'].mean(),2)\n",
    "SN_total=SN_df['Price'].sum()\n",
    "\n",
    "top_spend = pd.DataFrame({\"SN\":screenname,\"Purchase Count\":SN_count,\n",
    "                 \"Average Purchase Price\":SN_avg,\"Total Purchase Value\":SN_total})\n",
    "top_spend=top_spend.set_index('SN')\n",
    "top_spend= top_spend.sort_values(\"Total Purchase Value\", ascending=False)\n",
    "top_spend.head(5)"
   ]
  },
  {
   "cell_type": "markdown",
   "metadata": {},
   "source": [
    "## Most Popular Items"
   ]
  },
  {
   "cell_type": "markdown",
   "metadata": {},
   "source": [
    "* Retrieve the Item ID, Item Name, and Item Price columns\n",
    "\n",
    "\n",
    "* Group by Item ID and Item Name. Perform calculations to obtain purchase count, average item price, and total purchase value\n",
    "\n",
    "\n",
    "* Create a summary data frame to hold the results\n",
    "\n",
    "\n",
    "* Sort the purchase count column in descending order\n",
    "\n",
    "\n",
    "* Optional: give the displayed data cleaner formatting\n",
    "\n",
    "\n",
    "* Display a preview of the summary data frame\n",
    "\n"
   ]
  },
  {
   "cell_type": "code",
   "execution_count": null,
   "metadata": {},
   "outputs": [],
   "source": []
  },
  {
   "cell_type": "markdown",
   "metadata": {},
   "source": [
    "## Most Profitable Items"
   ]
  },
  {
   "cell_type": "markdown",
   "metadata": {},
   "source": [
    "* Sort the above table by total purchase value in descending order\n",
    "\n",
    "\n",
    "* Optional: give the displayed data cleaner formatting\n",
    "\n",
    "\n",
    "* Display a preview of the data frame\n",
    "\n"
   ]
  },
  {
   "cell_type": "code",
   "execution_count": null,
   "metadata": {
    "scrolled": true
   },
   "outputs": [],
   "source": []
  }
 ],
 "metadata": {
  "anaconda-cloud": {},
  "kernel_info": {
   "name": "python3"
  },
  "kernelspec": {
   "display_name": "Python 3",
   "language": "python",
   "name": "python3"
  },
  "language_info": {
   "codemirror_mode": {
    "name": "ipython",
    "version": 3
   },
   "file_extension": ".py",
   "mimetype": "text/x-python",
   "name": "python",
   "nbconvert_exporter": "python",
   "pygments_lexer": "ipython3",
   "version": "3.6.12"
  },
  "latex_envs": {
   "LaTeX_envs_menu_present": true,
   "autoclose": false,
   "autocomplete": true,
   "bibliofile": "biblio.bib",
   "cite_by": "apalike",
   "current_citInitial": 1,
   "eqLabelWithNumbers": true,
   "eqNumInitial": 1,
   "hotkeys": {
    "equation": "Ctrl-E",
    "itemize": "Ctrl-I"
   },
   "labels_anchors": false,
   "latex_user_defs": false,
   "report_style_numbering": false,
   "user_envs_cfg": false
  },
  "nteract": {
   "version": "0.2.0"
  }
 },
 "nbformat": 4,
 "nbformat_minor": 2
}
